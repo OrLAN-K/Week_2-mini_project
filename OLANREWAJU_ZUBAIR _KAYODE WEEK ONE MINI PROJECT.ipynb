{
 "cells": [
  {
   "cell_type": "code",
   "execution_count": 6,
   "id": "5055bec9",
   "metadata": {},
   "outputs": [
    {
     "name": "stdout",
     "output_type": "stream",
     "text": [
      "write your text: bad to be poor and not good or be bad and poor \n",
      "the number of negative words are:  5\n",
      "the number of bad words are:  2\n",
      "the number of not good words are:  1\n",
      "the number of poor words are:  2\n",
      "the lenth of the input text is:  47\n",
      "the percentage of negative word is:  9.4 %\n",
      "its negative\n"
     ]
    }
   ],
   "source": [
    "'''\n",
    "WEEK1: Sentiment Analysis:\n",
    "Write a program that takes user input as text and counts the occurrence of negative words\n",
    "such as \"bad,\" \"not good,\" and \"poor\" in the text.\n",
    "•\n",
    "Calculate the percentage of negative words by dividing the count of negative words\n",
    "by the total number of words in the text. If the percentage of negative words is\n",
    "above a certain threshold (e.g., 5%), mark the feedback as negative; otherwise, mark\n",
    "it as positive.\n",
    "• Also Print in the console the number of occurrences of each negative words\n",
    "respectively\n",
    "'''\n",
    "\n",
    "text = input(('the text: '))\n",
    "\n",
    "negative_word = ['bad','notgood','poor']\n",
    "\n",
    "text2 = text.replace('not good', 'notgood')\n",
    "\n",
    "count = 0\n",
    "\n",
    "bad_w = \"bad\"\n",
    "count_bad = 0\n",
    "\n",
    "notgood_w = \"notgood\"\n",
    "count_notgood = 0\n",
    "\n",
    "poor_w = \"poor\"\n",
    "count_poor = 0\n",
    "for neg in text2.split():\n",
    "    if neg in negative_word:\n",
    "           count += 1\n",
    "    if neg == bad_w:\n",
    "           count_bad += 1\n",
    "    if neg == notgood_w:\n",
    "           count_notgood += 1\n",
    "    if neg == poor_w:\n",
    "           count_poor += 1       \n",
    "print(\"the number of negative words are: \", count)\n",
    "print(\"the number of bad words are: \", count_bad)\n",
    "print(\"the number of not good words are: \", count_notgood)\n",
    "print(\"the number of poor words are: \", count_poor)\n",
    "\n",
    "len_of_text = len(text)\n",
    "print(\"the lenth of the input text is: \", len_of_text)\n",
    "\n",
    "pert_of_neg_word = (len_of_text/count)\n",
    "print(\"the percentage of negative word is: \", pert_of_neg_word, \"%\")\n",
    "\n",
    "if pert_of_neg_word > 10:\n",
    "    print('its negative')\n",
    "else:\n",
    "    print(\"its positive\")\n",
    " \n"
   ]
  },
  {
   "cell_type": "code",
   "execution_count": null,
   "id": "d3222d81",
   "metadata": {},
   "outputs": [],
   "source": [
    "o"
   ]
  },
  {
   "cell_type": "code",
   "execution_count": null,
   "id": "79b26df2",
   "metadata": {},
   "outputs": [],
   "source": []
  },
  {
   "cell_type": "code",
   "execution_count": null,
   "id": "9a23629b",
   "metadata": {},
   "outputs": [],
   "source": []
  }
 ],
 "metadata": {
  "kernelspec": {
   "display_name": "Python 3 (ipykernel)",
   "language": "python",
   "name": "python3"
  },
  "language_info": {
   "codemirror_mode": {
    "name": "ipython",
    "version": 3
   },
   "file_extension": ".py",
   "mimetype": "text/x-python",
   "name": "python",
   "nbconvert_exporter": "python",
   "pygments_lexer": "ipython3",
   "version": "3.11.3"
  }
 },
 "nbformat": 4,
 "nbformat_minor": 5
}
